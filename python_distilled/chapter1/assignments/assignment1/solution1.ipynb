{
 "cells": [
  {
   "cell_type": "markdown",
   "metadata": {},
   "source": [
    "# First Part:"
   ]
  },
  {
   "cell_type": "markdown",
   "metadata": {},
   "source": [
    "## <u>Question 1</u>:\n",
    "Write a Python program to print the following string in a specific format (see the output). <br>\n",
    "\n",
    "**Sample String**:<br>\n",
    "\"Twinkle, twinkle, little star, How I wonder what you are! Up above the world so high, Like a diamond in the sky.\n",
    "Twinkle, twinkle, little star, How I wonder what you are\"\n",
    "\n",
    "**Output**:<br>\n",
    "Twinkle, twinkle, little star,<br>\n",
    "&emsp;&emsp;&emsp;&emsp;How I wonder what you are!<br>\n",
    "&emsp;&emsp;&emsp;&emsp;&emsp;&emsp;&emsp;&emsp;Up above the world so high,<br>\n",
    "&emsp;&emsp;&emsp;&emsp;&emsp;&emsp;&emsp;&emsp;Like a diamond in the sky.<br>\n",
    "Twinkle, twinkle, little star,<br>\n",
    "&emsp;&emsp;&emsp;&emsp;How I wonder what you are<br>"
   ]
  },
  {
   "cell_type": "code",
   "execution_count": 2,
   "metadata": {},
   "outputs": [
    {
     "name": "stdout",
     "output_type": "stream",
     "text": [
      "Twinkle, twinkle, little star,\n",
      "\tHow I wonder what you are!\n",
      "\t\tUp above the world so high,\n",
      "\t\tLike a diamond in the sky.\n",
      "Twinkle, twinkle, little star,\n",
      "\tHow I wonder what you are\n"
     ]
    }
   ],
   "source": [
    "print(\"Twinkle, twinkle, little star,\\n\\tHow I wonder what you are!\\n\\t\\tUp above the world so high,\\n\\t\\tLike a diamond in the sky.\\nTwinkle, twinkle, little star,\\n\\tHow I wonder what you are\")"
   ]
  },
  {
   "cell_type": "markdown",
   "metadata": {},
   "source": [
    "## <u>Question 2</u>:\n",
    "Write Python Programs for each to `Add`, `Subtract`, `Multiply` and `Divide` two numbers."
   ]
  },
  {
   "cell_type": "code",
   "execution_count": 3,
   "metadata": {},
   "outputs": [
    {
     "name": "stdout",
     "output_type": "stream",
     "text": [
      "Addition: 15\n",
      "Subtraction: 5\n",
      "Multiplication: 50\n",
      "Division: 2.0\n"
     ]
    }
   ],
   "source": [
    "def add(x, y):\n",
    "    return x + y\n",
    "def subtract(x, y):\n",
    "    return x - y\n",
    "def multiply(x, y):\n",
    "    return x * y\n",
    "def divide(x, y):\n",
    "    return x / y\n",
    "\n",
    "def calculation(x, y):\n",
    "    print(f\"Addition: {add(x, y)}\")\n",
    "    print(f\"Subtraction: {subtract(x, y)}\")\n",
    "    print(f\"Multiplication: {multiply(x, y)}\")\n",
    "    print(f\"Division: {divide(x, y)}\")\n",
    "\n",
    "calculation(10, 5)"
   ]
  },
  {
   "cell_type": "markdown",
   "metadata": {},
   "source": [
    "## <u>Question 3</u>:\n",
    "Check if the first and last number of a list is the same.<br>\n",
    "&emsp;**Input**: [5,6,7,8,5]<br>\n",
    "&emsp;**Output**: `True`\n",
    "\n",
    "&emsp;**Input**: [5,6,7,8,9]<br>\n",
    "&emsp;**Output**: `False`"
   ]
  },
  {
   "cell_type": "code",
   "execution_count": 4,
   "metadata": {},
   "outputs": [
    {
     "name": "stdout",
     "output_type": "stream",
     "text": [
      "Check result for first list: True\n",
      "Check result for second list: False\n"
     ]
    }
   ],
   "source": [
    "def check(myList):\n",
    "    if myList[0] == myList[-1]:\n",
    "        return True\n",
    "    else:\n",
    "        return False\n",
    "\n",
    "myList1 = [5, 6, 7, 8, 5]\n",
    "myList2 = [5, 6, 7, 8, 9]\n",
    "\n",
    "print(f\"Check result for first list: {check(myList1)}\")\n",
    "print(f\"Check result for second list: {check(myList2)}\")"
   ]
  },
  {
   "cell_type": "markdown",
   "metadata": {},
   "source": [
    "# Second Part:\n",
    "Write Python Programs for each methods in `Table 1.6 Common String Methods`"
   ]
  },
  {
   "cell_type": "markdown",
   "metadata": {},
   "source": [
    "## endswith()"
   ]
  },
  {
   "cell_type": "code",
   "execution_count": 1,
   "metadata": {},
   "outputs": [],
   "source": [
    "text = \"hello, world!\""
   ]
  },
  {
   "cell_type": "code",
   "execution_count": 2,
   "metadata": {},
   "outputs": [
    {
     "name": "stdout",
     "output_type": "stream",
     "text": [
      "False\n"
     ]
    }
   ],
   "source": [
    "# simple suffix check\n",
    "print(text.endswith('world'))"
   ]
  },
  {
   "cell_type": "code",
   "execution_count": 3,
   "metadata": {},
   "outputs": [
    {
     "name": "stdout",
     "output_type": "stream",
     "text": [
      "True\n"
     ]
    }
   ],
   "source": [
    "print(text.endswith('world!'))"
   ]
  },
  {
   "cell_type": "code",
   "execution_count": 4,
   "metadata": {},
   "outputs": [
    {
     "name": "stdout",
     "output_type": "stream",
     "text": [
      "True\n"
     ]
    }
   ],
   "source": [
    "print(text.endswith('!'))"
   ]
  },
  {
   "cell_type": "code",
   "execution_count": 6,
   "metadata": {},
   "outputs": [
    {
     "name": "stdout",
     "output_type": "stream",
     "text": [
      "True\n"
     ]
    }
   ],
   "source": [
    "# start and end parameter\n",
    "print(text.endswith('lo', 0, 5))"
   ]
  },
  {
   "cell_type": "code",
   "execution_count": 5,
   "metadata": {},
   "outputs": [
    {
     "name": "stdout",
     "output_type": "stream",
     "text": [
      "False\n"
     ]
    }
   ],
   "source": [
    "# checking for multiple suffixes\n",
    "print(text.endswith(('world', 'planet')))"
   ]
  },
  {
   "cell_type": "code",
   "execution_count": 6,
   "metadata": {},
   "outputs": [
    {
     "name": "stdout",
     "output_type": "stream",
     "text": [
      "False\n"
     ]
    }
   ],
   "source": [
    "# search in a range for multiple suffixes\n",
    "print(text.endswith(('hello', 'world'), 0, 4))"
   ]
  },
  {
   "cell_type": "code",
   "execution_count": 7,
   "metadata": {},
   "outputs": [
    {
     "name": "stdout",
     "output_type": "stream",
     "text": [
      "True\n"
     ]
    }
   ],
   "source": [
    "print(text.endswith(('ll', 'world'), 0, 4))"
   ]
  },
  {
   "cell_type": "markdown",
   "metadata": {},
   "source": [
    "## find()"
   ]
  },
  {
   "cell_type": "code",
   "execution_count": 9,
   "metadata": {},
   "outputs": [],
   "source": [
    "text = \"Hello, World\""
   ]
  },
  {
   "cell_type": "code",
   "execution_count": 10,
   "metadata": {},
   "outputs": [
    {
     "name": "stdout",
     "output_type": "stream",
     "text": [
      "-1\n"
     ]
    }
   ],
   "source": [
    "# find the first character\n",
    "print(text.find('world'))"
   ]
  },
  {
   "cell_type": "code",
   "execution_count": 11,
   "metadata": {},
   "outputs": [
    {
     "name": "stdout",
     "output_type": "stream",
     "text": [
      "7\n"
     ]
    }
   ],
   "source": [
    "print(text.find('World'))"
   ]
  },
  {
   "cell_type": "code",
   "execution_count": 12,
   "metadata": {},
   "outputs": [
    {
     "name": "stdout",
     "output_type": "stream",
     "text": [
      "6\n"
     ]
    }
   ],
   "source": [
    "print(text.find(' '))"
   ]
  },
  {
   "cell_type": "code",
   "execution_count": 13,
   "metadata": {},
   "outputs": [
    {
     "name": "stdout",
     "output_type": "stream",
     "text": [
      "0\n"
     ]
    }
   ],
   "source": [
    "print(text.find(''))"
   ]
  },
  {
   "cell_type": "code",
   "execution_count": 14,
   "metadata": {},
   "outputs": [
    {
     "name": "stdout",
     "output_type": "stream",
     "text": [
      "Index of 'Hello': 0\n",
      "Index of ',': 5\n",
      "Index of 'World': 7\n",
      "Index of 'Python': -1\n"
     ]
    }
   ],
   "source": [
    "substrings = ('Hello', ',', 'World', 'Python')\n",
    "for sub in substrings:\n",
    "    print(f\"Index of '{sub}': {text.find(sub)}\")"
   ]
  },
  {
   "cell_type": "markdown",
   "metadata": {},
   "source": [
    "## lower()"
   ]
  },
  {
   "cell_type": "code",
   "execution_count": 16,
   "metadata": {},
   "outputs": [
    {
     "name": "stdout",
     "output_type": "stream",
     "text": [
      "hello world\n",
      "welcome to python\n"
     ]
    }
   ],
   "source": [
    "text1 = \"Hello World\"\n",
    "text2 = \"WELCOME TO PYTHON\"\n",
    "\n",
    "print(text1.lower())\n",
    "print(text2.lower())"
   ]
  },
  {
   "cell_type": "markdown",
   "metadata": {},
   "source": [
    "## replace()"
   ]
  },
  {
   "cell_type": "code",
   "execution_count": 27,
   "metadata": {},
   "outputs": [
    {
     "name": "stdout",
     "output_type": "stream",
     "text": [
      "Hello Python\n"
     ]
    }
   ],
   "source": [
    "text = \"Hello World\"\n",
    "print(text.replace(\"World\", \"Python\"))"
   ]
  },
  {
   "cell_type": "code",
   "execution_count": 28,
   "metadata": {},
   "outputs": [
    {
     "name": "stdout",
     "output_type": "stream",
     "text": [
      "Hello World\n"
     ]
    }
   ],
   "source": [
    "# Case sensitivity\n",
    "print(text.replace(\"world\", \"python\"))"
   ]
  },
  {
   "cell_type": "code",
   "execution_count": 30,
   "metadata": {},
   "outputs": [
    {
     "name": "stdout",
     "output_type": "stream",
     "text": [
      " World\n"
     ]
    }
   ],
   "source": [
    "# replacing with empty string\n",
    "print(text.replace(\"Hello\", \"\"))"
   ]
  },
  {
   "cell_type": "code",
   "execution_count": 31,
   "metadata": {},
   "outputs": [
    {
     "name": "stdout",
     "output_type": "stream",
     "text": [
      "leek at the beek\n"
     ]
    }
   ],
   "source": [
    "# replace all\n",
    "text = \"look at the book\"\n",
    "print(text.replace(\"oo\", \"ee\"))"
   ]
  },
  {
   "cell_type": "code",
   "execution_count": 25,
   "metadata": {},
   "outputs": [
    {
     "name": "stdout",
     "output_type": "stream",
     "text": [
      "apples , oranges , bananas and mangoes\n"
     ]
    }
   ],
   "source": [
    "# number of replacement\n",
    "text = \"apples and oranges and bananas and mangoes\"\n",
    "print(text.replace(\"and\", \",\", 2))"
   ]
  },
  {
   "cell_type": "code",
   "execution_count": 26,
   "metadata": {},
   "outputs": [
    {
     "name": "stdout",
     "output_type": "stream",
     "text": [
      "apples, oranges, bananas and mangoes\n"
     ]
    }
   ],
   "source": [
    "# no space before comma\n",
    "text = \"apples and oranges and bananas and mangoes\"\n",
    "print(text.replace(\" and\", \",\", 2))"
   ]
  },
  {
   "cell_type": "code",
   "execution_count": 3,
   "metadata": {},
   "outputs": [
    {
     "name": "stdout",
     "output_type": "stream",
     "text": [
      "We are from Bangladesh\n"
     ]
    }
   ],
   "source": [
    "# replace using dictionary\n",
    "text = \"I am from Dhaka\"\n",
    "exchange = {\n",
    "    'I': 'We',\n",
    "    'am': 'are',\n",
    "    'Dhaka': 'Bangladesh'\n",
    "}\n",
    "\n",
    "for old, new in exchange.items():\n",
    "    text = text.replace(old, new)\n",
    "print(text)"
   ]
  },
  {
   "cell_type": "markdown",
   "metadata": {},
   "source": [
    "## split()"
   ]
  },
  {
   "cell_type": "code",
   "execution_count": 1,
   "metadata": {},
   "outputs": [
    {
     "name": "stdout",
     "output_type": "stream",
     "text": [
      "['hello', 'world']\n"
     ]
    }
   ],
   "source": [
    "# Default split\n",
    "text = \"hello world\"\n",
    "print(text.split())"
   ]
  },
  {
   "cell_type": "code",
   "execution_count": 7,
   "metadata": {},
   "outputs": [
    {
     "name": "stdout",
     "output_type": "stream",
     "text": [
      "['apple', 'banana', 'cherry']\n"
     ]
    }
   ],
   "source": [
    "# specifying separator\n",
    "text = \"apple-banana-cherry\"\n",
    "print(text.split('-'))"
   ]
  },
  {
   "cell_type": "code",
   "execution_count": 8,
   "metadata": {},
   "outputs": [
    {
     "name": "stdout",
     "output_type": "stream",
     "text": [
      "['apple', 'banana', 'cherry-orange']\n"
     ]
    }
   ],
   "source": [
    "# number of occurance\n",
    "text = \"apple-banana-cherry-orange\"\n",
    "print(text.split('-', 2))"
   ]
  },
  {
   "cell_type": "code",
   "execution_count": 1,
   "metadata": {},
   "outputs": [
    {
     "name": "stdout",
     "output_type": "stream",
     "text": [
      "['hello', 'world with python']\n"
     ]
    }
   ],
   "source": [
    "# maxsplit\n",
    "text = \"hello world with python\"\n",
    "print(text.split(maxsplit=1))"
   ]
  },
  {
   "cell_type": "markdown",
   "metadata": {},
   "source": [
    "## startswith()"
   ]
  },
  {
   "cell_type": "code",
   "execution_count": 2,
   "metadata": {},
   "outputs": [
    {
     "name": "stdout",
     "output_type": "stream",
     "text": [
      "False\n",
      "True\n"
     ]
    }
   ],
   "source": [
    "# Basic\n",
    "text = \"Hello world\"\n",
    "print(text.startswith('hello')) # Case sensitive\n",
    "print(text.startswith('Hello'))"
   ]
  },
  {
   "cell_type": "code",
   "execution_count": 4,
   "metadata": {},
   "outputs": [
    {
     "name": "stdout",
     "output_type": "stream",
     "text": [
      "True\n",
      "False\n",
      "True\n"
     ]
    }
   ],
   "source": [
    "# from range\n",
    "text = 'Look over there!'\n",
    "print(text.startswith('over', 5))\n",
    "print(text.startswith('over', 5, 8))\n",
    "print(text.startswith('over', 5, 9))"
   ]
  },
  {
   "cell_type": "code",
   "execution_count": 5,
   "metadata": {},
   "outputs": [
    {
     "name": "stdout",
     "output_type": "stream",
     "text": [
      "True\n"
     ]
    }
   ],
   "source": [
    "text = \"Good Morning!\"\n",
    "print(text.startswith(('Good', 'Bad')))"
   ]
  },
  {
   "cell_type": "code",
   "execution_count": 6,
   "metadata": {},
   "outputs": [
    {
     "name": "stdout",
     "output_type": "stream",
     "text": [
      "False\n"
     ]
    }
   ],
   "source": [
    "text = \"Happy Morning!\"\n",
    "print(text.startswith(('Good', 'Bad')))"
   ]
  },
  {
   "cell_type": "markdown",
   "metadata": {},
   "source": [
    "## strip()"
   ]
  },
  {
   "cell_type": "code",
   "execution_count": 21,
   "metadata": {},
   "outputs": [
    {
     "name": "stdout",
     "output_type": "stream",
     "text": [
      "Hello, World!\n"
     ]
    }
   ],
   "source": [
    "# basic strip\n",
    "text = \"    Hello, World!   \"\n",
    "print(text.strip())"
   ]
  },
  {
   "cell_type": "code",
   "execution_count": 12,
   "metadata": {},
   "outputs": [
    {
     "name": "stdout",
     "output_type": "stream",
     "text": [
      "!!HelloWorld\n"
     ]
    }
   ],
   "source": [
    "# removing specific character\n",
    "text = \",,,, Hello -----\"\n",
    "text = '!!' + text.strip(\", -\") + 'World'\n",
    "print(text)"
   ]
  },
  {
   "cell_type": "code",
   "execution_count": 20,
   "metadata": {},
   "outputs": [
    {
     "name": "stdout",
     "output_type": "stream",
     "text": [
      "['name', 'age', 'country']\n"
     ]
    }
   ],
   "source": [
    "# csv data processing\n",
    "csv_data = \"name; age; country\"\n",
    "fields = [field.strip() for field in csv_data.split(';')]\n",
    "print(fields)"
   ]
  },
  {
   "cell_type": "markdown",
   "metadata": {},
   "source": [
    "### lstrip() & rstrip()"
   ]
  },
  {
   "cell_type": "code",
   "execution_count": 23,
   "metadata": {},
   "outputs": [
    {
     "name": "stdout",
     "output_type": "stream",
     "text": [
      "!Hello, World   !\n"
     ]
    }
   ],
   "source": [
    "# lstrip()\n",
    "text = \"    Hello, World   \"\n",
    "text = '!' + text.lstrip() + '!'\n",
    "print(text)"
   ]
  },
  {
   "cell_type": "code",
   "execution_count": 24,
   "metadata": {},
   "outputs": [
    {
     "name": "stdout",
     "output_type": "stream",
     "text": [
      "!    Hello, World!\n"
     ]
    }
   ],
   "source": [
    "# rstrip()\n",
    "text = \"    Hello, World   \"\n",
    "text = '!' + text.rstrip() + '!'\n",
    "print(text)"
   ]
  },
  {
   "cell_type": "markdown",
   "metadata": {},
   "source": [
    "## upper()"
   ]
  },
  {
   "cell_type": "code",
   "execution_count": 1,
   "metadata": {},
   "outputs": [
    {
     "name": "stdout",
     "output_type": "stream",
     "text": [
      "PYTHON\n"
     ]
    }
   ],
   "source": [
    "# basic\n",
    "name = 'Python'\n",
    "print(name.upper())"
   ]
  }
 ],
 "metadata": {
  "kernelspec": {
   "display_name": "env-mldl",
   "language": "python",
   "name": "python3"
  },
  "language_info": {
   "codemirror_mode": {
    "name": "ipython",
    "version": 3
   },
   "file_extension": ".py",
   "mimetype": "text/x-python",
   "name": "python",
   "nbconvert_exporter": "python",
   "pygments_lexer": "ipython3",
   "version": "3.12.3"
  }
 },
 "nbformat": 4,
 "nbformat_minor": 2
}
